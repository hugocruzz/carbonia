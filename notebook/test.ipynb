{
 "cells": [
  {
   "cell_type": "code",
   "execution_count": 2,
   "metadata": {},
   "outputs": [],
   "source": [
    "\n",
    "import os\n",
    "import pandas as pd\n",
    "#Change current working directory to parent\n",
    "os.chdir('..')\n",
    "from carbonia.match import *\n",
    "from carbonia.embeddings import embed\n"
   ]
  },
  {
   "cell_type": "code",
   "execution_count": 3,
   "metadata": {},
   "outputs": [],
   "source": [
    "#Assign the openai key to the environment variable\n",
    "from dotenv import load_dotenv\n",
    "env_path = os.path.expanduser('~/global_env/.env')\n",
    "load_dotenv(env_path)\n",
    "os.environ[\"OPENAI_API_KEY\"] = os.getenv('OPENAI')\n"
   ]
  },
  {
   "cell_type": "markdown",
   "metadata": {},
   "source": [
    "# Embedd the source dataframe"
   ]
  },
  {
   "cell_type": "code",
   "execution_count": 8,
   "metadata": {},
   "outputs": [
    {
     "name": "stdout",
     "output_type": "stream",
     "text": [
      "Processing batch 1 of 1...\n",
      "All batches processed.\n",
      "Embedded DataFrame:\n",
      "           text                   combined  \\\n",
      "0  refrigerator  refrigerator refrigerator   \n",
      "1         paper                paper paper   \n",
      "2  a microscope  a microscope a microscope   \n",
      "\n",
      "                                           embedding  \n",
      "0  [-0.0041834632866084576, -0.017800822854042053...  \n",
      "1  [-0.002037924947217107, 0.005687079392373562, ...  \n",
      "2  [-0.017861314117908478, 0.0013716807588934898,...  \n"
     ]
    }
   ],
   "source": [
    "data = {\n",
    "    \"text\": [\"refrigerator\", \"paper\", \"a microscope\"]\n",
    "}\n",
    "df_to_embed = pd.DataFrame(data)\n",
    "embedded_df = embed(df_to_embed, embedding_column_name=\"text\")\n",
    "print(\"Embedded DataFrame:\")\n",
    "print(embedded_df)\n"
   ]
  },
  {
   "cell_type": "markdown",
   "metadata": {},
   "source": [
    "# Embed the target dataframe"
   ]
  },
  {
   "cell_type": "code",
   "execution_count": 27,
   "metadata": {},
   "outputs": [
    {
     "name": "stdout",
     "output_type": "stream",
     "text": [
      "Processing batch 1 of 2...\n",
      "Processing batch 2 of 2...\n",
      "All batches processed.\n"
     ]
    }
   ],
   "source": [
    "\n",
    "# Example 4: Match embedded DataFrame with a target DataFrame\n",
    "df_target = pd.read_excel(r\"data\\Target_pre_processed_PER1p5_nacres_fe_database_v1-0-2023.xlsx\")\n",
    "\n",
    "# Assuming the target DataFrame also needs to be embedded\n",
    "embedded_target_df = embed(df_target, embedding_column_name=\"nacres.description.en\")"
   ]
  },
  {
   "cell_type": "code",
   "execution_count": null,
   "metadata": {},
   "outputs": [
    {
     "name": "stdout",
     "output_type": "stream",
     "text": [
      "Matched DataFrame:\n",
      "0    refrigerator refrigerator\n",
      "1                  paper paper\n",
      "2    a microscope a microscope\n",
      "Name: combined, dtype: object\n",
      "0               REFRIGERATION UNITS\n",
      "1    PAPER WASTE TREATMENT SERVICES\n",
      "2      ELECTRON AND ION MICROSCOPES\n",
      "Name: combined_target, dtype: object\n"
     ]
    }
   ],
   "source": [
    "# Match the embedded DataFrame with the target DataFrame\n",
    "from carbonia.match import match_datasets\n",
    "\n",
    "matched_df = match_datasets(embedded_df.copy(), embedded_target_df.copy(), top_n=1, gpt_model=\"gpt-4o-mini\", api_key=os.getenv(\"OPENAI_API_KEY\"))\n",
    "print(\"Matched DataFrame:\")\n",
    "print(matched_df[\"combined\"])\n",
    "print(matched_df[\"combined_target\"])"
   ]
  },
  {
   "cell_type": "code",
   "execution_count": null,
   "metadata": {},
   "outputs": [],
   "source": []
  }
 ],
 "metadata": {
  "kernelspec": {
   "display_name": "Carbon_AI",
   "language": "python",
   "name": "python3"
  },
  "language_info": {
   "codemirror_mode": {
    "name": "ipython",
    "version": 3
   },
   "file_extension": ".py",
   "mimetype": "text/x-python",
   "name": "python",
   "nbconvert_exporter": "python",
   "pygments_lexer": "ipython3",
   "version": "3.12.1"
  }
 },
 "nbformat": 4,
 "nbformat_minor": 2
}
