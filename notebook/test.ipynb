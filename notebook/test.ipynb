{
 "cells": [
  {
   "cell_type": "code",
   "execution_count": 1,
   "metadata": {},
   "outputs": [],
   "source": [
    "import os\n",
    "import pandas as pd\n",
    "\n",
    "from dotenv import load_dotenv\n",
    "# Set your OpenAI API key\n",
    "# Load the API key, feel free to change it \n",
    "env_path = os.path.expanduser('~/global_env/.env')\n",
    "load_dotenv(env_path)\n",
    "os.environ[\"OPENAI_API_KEY\"] = os.getenv('OPENAI')\n"
   ]
  },
  {
   "cell_type": "code",
   "execution_count": 5,
   "metadata": {},
   "outputs": [],
   "source": [
    "#Change current working directory to parent\n",
    "os.chdir('..')"
   ]
  },
  {
   "cell_type": "code",
   "execution_count": 7,
   "metadata": {},
   "outputs": [
    {
     "name": "stdout",
     "output_type": "stream",
     "text": [
      "Processing batch 1 of 1...\n",
      "All batches processed.\n",
      "Embedded DataFrame:\n",
      "           text      combined  \\\n",
      "0  refrigerator  refrigerator   \n",
      "1         paper         paper   \n",
      "2  a microscope  a microscope   \n",
      "\n",
      "                                           embedding  \n",
      "0  [-0.004749748390167952, -0.023550283163785934,...  \n",
      "1  [0.0016072957077994943, -0.012258860282599926,...  \n",
      "2  [-0.021395374089479446, -0.0037180983927100897...  \n"
     ]
    }
   ],
   "source": [
    "# Import necessary libraries\n",
    "import os\n",
    "import pandas as pd\n",
    "from carbonia.match import *\n",
    "from carbonia.embeddings import embed\n",
    "\n",
    "data = {\n",
    "    \"text\": [\"refrigerator\", \"paper\", \"a microscope\"]\n",
    "}\n",
    "df_to_embed = pd.DataFrame(data)\n",
    "embedded_df = embed(df_to_embed)\n",
    "print(\"Embedded DataFrame:\")\n",
    "print(embedded_df)\n",
    "\n",
    "\n"
   ]
  },
  {
   "cell_type": "code",
   "execution_count": 12,
   "metadata": {},
   "outputs": [
    {
     "ename": "TypeError",
     "evalue": "embed() got an unexpected keyword argument 'embedding_column_name'",
     "output_type": "error",
     "traceback": [
      "\u001b[1;31m---------------------------------------------------------------------------\u001b[0m",
      "\u001b[1;31mTypeError\u001b[0m                                 Traceback (most recent call last)",
      "Cell \u001b[1;32mIn[12], line 5\u001b[0m\n\u001b[0;32m      2\u001b[0m df_target \u001b[38;5;241m=\u001b[39m pd\u001b[38;5;241m.\u001b[39mread_excel(\u001b[38;5;124mr\u001b[39m\u001b[38;5;124m\"\u001b[39m\u001b[38;5;124mdata\u001b[39m\u001b[38;5;124m\\\u001b[39m\u001b[38;5;124mTarget_pre_processed_PER1p5_nacres_fe_database_v1-0-2023.xlsx\u001b[39m\u001b[38;5;124m\"\u001b[39m)\n\u001b[0;32m      4\u001b[0m \u001b[38;5;66;03m# Assuming the target DataFrame also needs to be embedded\u001b[39;00m\n\u001b[1;32m----> 5\u001b[0m embedded_target_df \u001b[38;5;241m=\u001b[39m \u001b[43membed\u001b[49m\u001b[43m(\u001b[49m\u001b[43mdf_target\u001b[49m\u001b[43m,\u001b[49m\u001b[43m \u001b[49m\u001b[43membedding_column_name\u001b[49m\u001b[38;5;241;43m=\u001b[39;49m\u001b[38;5;124;43m\"\u001b[39;49m\u001b[38;5;124;43mnacres.description.en\u001b[39;49m\u001b[38;5;124;43m\"\u001b[39;49m\u001b[43m)\u001b[49m\n",
      "\u001b[1;31mTypeError\u001b[0m: embed() got an unexpected keyword argument 'embedding_column_name'"
     ]
    }
   ],
   "source": [
    "\n",
    "# Example 4: Match embedded DataFrame with a target DataFrame\n",
    "df_target = pd.read_excel(r\"data\\Target_pre_processed_PER1p5_nacres_fe_database_v1-0-2023.xlsx\")\n",
    "\n",
    "# Assuming the target DataFrame also needs to be embedded\n",
    "embedded_target_df = embed(df_target, embedding_column_name=\"nacres.description.en\")"
   ]
  },
  {
   "cell_type": "code",
   "execution_count": 11,
   "metadata": {},
   "outputs": [
    {
     "data": {
      "text/plain": [
       "'AA01 PAINS, PATISSERIES, VIENNOISERIES CONGELES FROZEN BREADS, PASTRIES, PASTRIES      ADEME14 Produit agro-alimentaires transformes 1.0 0.0 0.8 311410 Frozen food 1.1 0.0 0.8800000000000001 1.1 0.06 0.8800000000000001         macro 1.1 0.1 0.8800000000000001 AA05 purchases lab.life 9.0 4.1'"
      ]
     },
     "execution_count": 11,
     "metadata": {},
     "output_type": "execute_result"
    }
   ],
   "source": [
    "embedded_target_df[\"combined\"][0]"
   ]
  },
  {
   "cell_type": "code",
   "execution_count": 12,
   "metadata": {},
   "outputs": [
    {
     "name": "stdout",
     "output_type": "stream",
     "text": [
      "Matched DataFrame:\n",
      "0     This is the first test string.\n",
      "1    This is the second test string.\n",
      "2                       a microscope\n",
      "Name: combined, dtype: object\n",
      "0     First target string.\n",
      "1    Second target string.\n",
      "2          some microscope\n",
      "Name: combined_target, dtype: object\n"
     ]
    }
   ],
   "source": [
    "# Match the embedded DataFrame with the target DataFrame\n",
    "from krbon.match import match_datasets\n",
    "\n",
    "matched_df = match_datasets(embedded_df.copy(), embedded_target_df.copy(), top_n=1, gpt_model=\"gpt-4o-mini\", api_key=os.getenv(\"OPENAI_API_KEY\"))\n",
    "print(\"Matched DataFrame:\")\n",
    "print(matched_df[\"combined\"])\n",
    "print(matched_df[\"combined_target\"])"
   ]
  },
  {
   "cell_type": "code",
   "execution_count": null,
   "metadata": {},
   "outputs": [],
   "source": []
  }
 ],
 "metadata": {
  "kernelspec": {
   "display_name": "Carbon_AI",
   "language": "python",
   "name": "python3"
  },
  "language_info": {
   "codemirror_mode": {
    "name": "ipython",
    "version": 3
   },
   "file_extension": ".py",
   "mimetype": "text/x-python",
   "name": "python",
   "nbconvert_exporter": "python",
   "pygments_lexer": "ipython3",
   "version": "3.12.1"
  }
 },
 "nbformat": 4,
 "nbformat_minor": 2
}
